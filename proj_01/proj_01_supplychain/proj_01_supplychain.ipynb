{
 "cells": [
  {
   "cell_type": "markdown",
   "id": "e3706083",
   "metadata": {
    "id": "e3706083"
   },
   "source": [
    "# proj_01 — Supply Chain: On-Time Delivery & Cost Modeling\n",
    "This notebook aligns with *Machine Learning with Python (Course 1)*. It demonstrates supervised learning (classification + regression), basic EDA, proper validation, and model evaluation.\n",
    "\n",
    "**Objectives**\n",
    "- Generate synthetic shipment data (carriers, lanes, distance, weight, service level)\n",
    "- Predict **OnTimeDelivery** (classification)\n",
    "- Predict **ShipmentCost** (regression)\n",
    "- Save trained artifacts for later use in a Streamlit app"
   ]
  },
  {
   "cell_type": "code",
   "execution_count": null,
   "id": "ae99cb72",
   "metadata": {
    "executionInfo": {
     "elapsed": 6,
     "status": "ok",
     "timestamp": 1755990378228,
     "user": {
      "displayName": "David Surrey",
      "userId": "10091659557754942332"
     },
     "user_tz": 420
    },
    "id": "ae99cb72"
   },
   "outputs": [],
   "source": [
    "\n",
    "# Standard imports\n",
    "import numpy as np\n",
    "import pandas as pd\n",
    "import matplotlib.pyplot as plt\n",
    "\n",
    "# ML imports\n",
    "from sklearn.model_selection import train_test_split, cross_val_score, StratifiedKFold, KFold\n",
    "from sklearn.preprocessing import OneHotEncoder, StandardScaler\n",
    "from sklearn.compose import ColumnTransformer\n",
    "from sklearn.pipeline import Pipeline\n",
    "from sklearn.metrics import (accuracy_score, precision_score, recall_score, f1_score, roc_auc_score,\n",
    "                             confusion_matrix, ConfusionMatrixDisplay, mean_squared_error, r2_score)\n",
    "from sklearn.linear_model import LogisticRegression, LinearRegression\n",
    "from sklearn.tree import DecisionTreeClassifier, DecisionTreeRegressor\n",
    "from sklearn.ensemble import RandomForestClassifier, RandomForestRegressor\n",
    "\n",
    "import joblib\n",
    "import os\n",
    "\n",
    "RANDOM_SEED = 42\n",
    "np.random.seed(RANDOM_SEED)\n",
    "\n",
    "# # Create assets dir if running outside pre-built environment\n",
    "# ASSETS = os.path.join(os.getcwd(), \"proj_01_assets\")\n",
    "# os.makedirs(ASSETS, exist_ok=True)\n",
    "\n"
   ]
  },
  {
   "cell_type": "code",
   "execution_count": 46,
   "id": "2468f867",
   "metadata": {},
   "outputs": [
    {
     "name": "stdout",
     "output_type": "stream",
     "text": [
      "Saving CSVs to: C:\\Users\\dsurr\\ibm_certs\\SupplyChainHealthCare\\proj_01\\data\n",
      "Saving models to: C:\\Users\\dsurr\\ibm_certs\\SupplyChainHealthCare\\proj_01\\models\n"
     ]
    }
   ],
   "source": [
    "\n",
    "# --- Standardized paths for repo-friendly saves ---\n",
    "from pathlib import Path\n",
    "import os\n",
    "\n",
    "# Resolve project root whether running from repo root or notebooks/\n",
    "ROOT = Path.cwd()\n",
    "if ROOT.name == \"notebooks\":\n",
    "    ROOT = ROOT.parent\n",
    "\n",
    "DATA = ROOT / \"proj_01\" / \"data\" if (ROOT / \"proj_01\").exists() else ROOT / \"data\"\n",
    "MODELS = ROOT / \"proj_01\" / \"models\" if (ROOT / \"proj_01\").exists() else ROOT / \"models\"\n",
    "\n",
    "DATA.mkdir(parents=True, exist_ok=True)\n",
    "MODELS.mkdir(parents=True, exist_ok=True)\n",
    "\n",
    "print(f\"Saving CSVs to: {DATA}\")\n",
    "print(f\"Saving models to: {MODELS}\")\n"
   ]
  },
  {
   "cell_type": "code",
   "execution_count": 47,
   "id": "7b6bf7c3",
   "metadata": {
    "executionInfo": {
     "elapsed": 29,
     "status": "ok",
     "timestamp": 1755990382417,
     "user": {
      "displayName": "David Surrey",
      "userId": "10091659557754942332"
     },
     "user_tz": 420
    },
    "id": "7b6bf7c3"
   },
   "outputs": [],
   "source": [
    "\n",
    "# Matplotlib settings (default colors, single-plot rule honored in guidance)\n",
    "plt.rcParams[\"figure.figsize\"] = (8,5)\n",
    "plt.rcParams[\"axes.grid\"] = True\n"
   ]
  },
  {
   "cell_type": "markdown",
   "id": "82417f6a",
   "metadata": {
    "id": "82417f6a"
   },
   "source": [
    "## 1) Generate Synthetic Shipment Data"
   ]
  },
  {
   "cell_type": "code",
   "execution_count": 48,
   "id": "8a816aaf",
   "metadata": {
    "colab": {
     "base_uri": "https://localhost:8080/",
     "height": 224
    },
    "executionInfo": {
     "elapsed": 21556,
     "status": "ok",
     "timestamp": 1755991019402,
     "user": {
      "displayName": "David Surrey",
      "userId": "10091659557754942332"
     },
     "user_tz": 420
    },
    "id": "8a816aaf",
    "outputId": "a529fab4-19be-430d-c049-6e998a841768"
   },
   "outputs": [
    {
     "data": {
      "text/html": [
       "<div>\n",
       "<style scoped>\n",
       "    .dataframe tbody tr th:only-of-type {\n",
       "        vertical-align: middle;\n",
       "    }\n",
       "\n",
       "    .dataframe tbody tr th {\n",
       "        vertical-align: top;\n",
       "    }\n",
       "\n",
       "    .dataframe thead th {\n",
       "        text-align: right;\n",
       "    }\n",
       "</style>\n",
       "<table border=\"1\" class=\"dataframe\">\n",
       "  <thead>\n",
       "    <tr style=\"text-align: right;\">\n",
       "      <th></th>\n",
       "      <th>Origin</th>\n",
       "      <th>Destination</th>\n",
       "      <th>Carrier</th>\n",
       "      <th>ServiceLevel</th>\n",
       "      <th>Distance</th>\n",
       "      <th>Weight</th>\n",
       "      <th>Stops</th>\n",
       "      <th>ShipmentCost</th>\n",
       "      <th>OnTimeDelivery</th>\n",
       "    </tr>\n",
       "  </thead>\n",
       "  <tbody>\n",
       "    <tr>\n",
       "      <th>0</th>\n",
       "      <td>DEN</td>\n",
       "      <td>MIA</td>\n",
       "      <td>GammaFreight</td>\n",
       "      <td>Expedited</td>\n",
       "      <td>402.2</td>\n",
       "      <td>1031.1</td>\n",
       "      <td>2</td>\n",
       "      <td>1004.43</td>\n",
       "      <td>1</td>\n",
       "    </tr>\n",
       "    <tr>\n",
       "      <th>1</th>\n",
       "      <td>CHI</td>\n",
       "      <td>DTW</td>\n",
       "      <td>DeltaHaul</td>\n",
       "      <td>Standard</td>\n",
       "      <td>1063.6</td>\n",
       "      <td>837.6</td>\n",
       "      <td>1</td>\n",
       "      <td>1903.25</td>\n",
       "      <td>0</td>\n",
       "    </tr>\n",
       "    <tr>\n",
       "      <th>2</th>\n",
       "      <td>LAX</td>\n",
       "      <td>MSP</td>\n",
       "      <td>DeltaHaul</td>\n",
       "      <td>Standard</td>\n",
       "      <td>683.6</td>\n",
       "      <td>1825.7</td>\n",
       "      <td>1</td>\n",
       "      <td>1601.35</td>\n",
       "      <td>0</td>\n",
       "    </tr>\n",
       "    <tr>\n",
       "      <th>3</th>\n",
       "      <td>DEN</td>\n",
       "      <td>DTW</td>\n",
       "      <td>BetaLogix</td>\n",
       "      <td>Expedited</td>\n",
       "      <td>551.8</td>\n",
       "      <td>1692.1</td>\n",
       "      <td>1</td>\n",
       "      <td>1994.60</td>\n",
       "      <td>1</td>\n",
       "    </tr>\n",
       "    <tr>\n",
       "      <th>4</th>\n",
       "      <td>ATL</td>\n",
       "      <td>DTW</td>\n",
       "      <td>AlphaTrans</td>\n",
       "      <td>Economy</td>\n",
       "      <td>626.1</td>\n",
       "      <td>731.0</td>\n",
       "      <td>1</td>\n",
       "      <td>751.54</td>\n",
       "      <td>0</td>\n",
       "    </tr>\n",
       "  </tbody>\n",
       "</table>\n",
       "</div>"
      ],
      "text/plain": [
       "  Origin Destination       Carrier ServiceLevel  Distance  Weight  Stops  \\\n",
       "0    DEN         MIA  GammaFreight    Expedited     402.2  1031.1      2   \n",
       "1    CHI         DTW     DeltaHaul     Standard    1063.6   837.6      1   \n",
       "2    LAX         MSP     DeltaHaul     Standard     683.6  1825.7      1   \n",
       "3    DEN         DTW     BetaLogix    Expedited     551.8  1692.1      1   \n",
       "4    ATL         DTW    AlphaTrans      Economy     626.1   731.0      1   \n",
       "\n",
       "   ShipmentCost  OnTimeDelivery  \n",
       "0       1004.43               1  \n",
       "1       1903.25               0  \n",
       "2       1601.35               0  \n",
       "3       1994.60               1  \n",
       "4        751.54               0  "
      ]
     },
     "execution_count": 48,
     "metadata": {},
     "output_type": "execute_result"
    }
   ],
   "source": [
    "\n",
    "# Synthetic data generation\n",
    "n = 10000\n",
    "origins = [\"DAL\", \"HOU\", \"ATL\", \"CHI\", \"LAX\", \"SEA\", \"DEN\", \"PHX\"]\n",
    "destinations = [\"NYC\", \"BOS\", \"MIA\", \"PHL\", \"SFO\", \"SJC\", \"MSP\", \"DTW\"]\n",
    "carriers = [\"AlphaTrans\", \"BetaLogix\", \"GammaFreight\", \"DeltaHaul\"]\n",
    "service_levels = [\"Standard\", \"Expedited\", \"Economy\"]\n",
    "\n",
    "def random_choice(arr, size):\n",
    "    return np.random.choice(arr, size=size)\n",
    "\n",
    "origin = random_choice(origins, n)\n",
    "destination = random_choice(destinations, n)\n",
    "carrier = random_choice(carriers, n)\n",
    "service = random_choice(service_levels, n)\n",
    "\n",
    "# Derived features\n",
    "distance = np.random.gamma(shape=5.0, scale=120.0, size=n)  # ~ 0-3000 miles, skewed\n",
    "weight = np.abs(np.random.normal(loc=1200, scale=500, size=n)) + 50  # lbs\n",
    "stops = np.random.choice([1,2,3], size=n, p=[0.7, 0.25, 0.05])\n",
    "\n",
    "# Base cost model (latent function + noise)\n",
    "base_rate_per_mile = {\"Standard\": 1.3, \"Expedited\": 1.9, \"Economy\": 1.0}\n",
    "carrier_factor = {\"AlphaTrans\": 1.00, \"BetaLogix\": 1.07, \"GammaFreight\": 0.95, \"DeltaHaul\": 1.03}\n",
    "\n",
    "cost = []\n",
    "for i in range(n):\n",
    "    pm = base_rate_per_mile[service[i]] * carrier_factor[carrier[i]]\n",
    "    c = pm * distance[i] * (1 + 0.0004*weight[i]) + 25*stops[i]\n",
    "    c += np.random.normal(0, 80)  # noise\n",
    "    cost.append(max(50, c))\n",
    "\n",
    "# On-time delivery probability (latent reliability model)\n",
    "lane_risk = {}\n",
    "for o in origins:\n",
    "    for d in destinations:\n",
    "        # some lanes tougher (randomly assign)\n",
    "        lane_risk[(o,d)] = np.random.uniform(0.05, 0.25)\n",
    "\n",
    "carrier_reliability = {\"AlphaTrans\": 0.90, \"BetaLogix\": 0.82, \"GammaFreight\": 0.88, \"DeltaHaul\": 0.85}\n",
    "service_bonus = {\"Standard\": 0.00, \"Expedited\": 0.07, \"Economy\": -0.04}\n",
    "\n",
    "p_ontime = []\n",
    "for i in range(n):\n",
    "    base = 0.7 + service_bonus[service[i]] + (carrier_reliability[carrier[i]] - 0.85)\n",
    "    base -= lane_risk[(origin[i], destination[i])]  # higher risk -> lower on-time\n",
    "    base -= 0.00007*distance[i]  # longer distance slightly riskier\n",
    "    base -= 0.02*(stops[i]-1)    # more stops -> riskier\n",
    "    base = np.clip(base, 0.1, 0.95)\n",
    "    p_ontime.append(base)\n",
    "\n",
    "on_time = (np.random.rand(n) < np.array(p_ontime)).astype(int)\n",
    "\n",
    "df = pd.DataFrame({\n",
    "    \"Origin\": origin,\n",
    "    \"Destination\": destination,\n",
    "    \"Carrier\": carrier,\n",
    "    \"ServiceLevel\": service,\n",
    "    \"Distance\": distance.round(1),\n",
    "    \"Weight\": weight.round(1),\n",
    "    \"Stops\": stops,\n",
    "    \"ShipmentCost\": np.round(cost, 2),\n",
    "    \"OnTimeDelivery\": on_time\n",
    "})\n",
    "\n",
    "df.to_csv(DATA / \"supply_chain_shipments.csv\", index=False)\n",
    "df.head()\n"
   ]
  },
  {
   "cell_type": "markdown",
   "id": "56e99a05",
   "metadata": {
    "id": "56e99a05"
   },
   "source": [
    "## 2) Quick EDA"
   ]
  },
  {
   "cell_type": "code",
   "execution_count": 49,
   "id": "59712b9c",
   "metadata": {
    "colab": {
     "base_uri": "https://localhost:8080/",
     "height": 332
    },
    "executionInfo": {
     "elapsed": 112,
     "status": "ok",
     "timestamp": 1755990385640,
     "user": {
      "displayName": "David Surrey",
      "userId": "10091659557754942332"
     },
     "user_tz": 420
    },
    "id": "59712b9c",
    "outputId": "4cdd08c2-6619-4269-dc5b-8c26a5f9837d"
   },
   "outputs": [
    {
     "data": {
      "text/html": [
       "<div>\n",
       "<style scoped>\n",
       "    .dataframe tbody tr th:only-of-type {\n",
       "        vertical-align: middle;\n",
       "    }\n",
       "\n",
       "    .dataframe tbody tr th {\n",
       "        vertical-align: top;\n",
       "    }\n",
       "\n",
       "    .dataframe thead th {\n",
       "        text-align: right;\n",
       "    }\n",
       "</style>\n",
       "<table border=\"1\" class=\"dataframe\">\n",
       "  <thead>\n",
       "    <tr style=\"text-align: right;\">\n",
       "      <th></th>\n",
       "      <th>count</th>\n",
       "      <th>unique</th>\n",
       "      <th>top</th>\n",
       "      <th>freq</th>\n",
       "      <th>mean</th>\n",
       "      <th>std</th>\n",
       "      <th>min</th>\n",
       "      <th>25%</th>\n",
       "      <th>50%</th>\n",
       "      <th>75%</th>\n",
       "      <th>max</th>\n",
       "    </tr>\n",
       "  </thead>\n",
       "  <tbody>\n",
       "    <tr>\n",
       "      <th>Origin</th>\n",
       "      <td>10000</td>\n",
       "      <td>8</td>\n",
       "      <td>LAX</td>\n",
       "      <td>1271</td>\n",
       "      <td>NaN</td>\n",
       "      <td>NaN</td>\n",
       "      <td>NaN</td>\n",
       "      <td>NaN</td>\n",
       "      <td>NaN</td>\n",
       "      <td>NaN</td>\n",
       "      <td>NaN</td>\n",
       "    </tr>\n",
       "    <tr>\n",
       "      <th>Destination</th>\n",
       "      <td>10000</td>\n",
       "      <td>8</td>\n",
       "      <td>BOS</td>\n",
       "      <td>1303</td>\n",
       "      <td>NaN</td>\n",
       "      <td>NaN</td>\n",
       "      <td>NaN</td>\n",
       "      <td>NaN</td>\n",
       "      <td>NaN</td>\n",
       "      <td>NaN</td>\n",
       "      <td>NaN</td>\n",
       "    </tr>\n",
       "    <tr>\n",
       "      <th>Carrier</th>\n",
       "      <td>10000</td>\n",
       "      <td>4</td>\n",
       "      <td>BetaLogix</td>\n",
       "      <td>2534</td>\n",
       "      <td>NaN</td>\n",
       "      <td>NaN</td>\n",
       "      <td>NaN</td>\n",
       "      <td>NaN</td>\n",
       "      <td>NaN</td>\n",
       "      <td>NaN</td>\n",
       "      <td>NaN</td>\n",
       "    </tr>\n",
       "    <tr>\n",
       "      <th>ServiceLevel</th>\n",
       "      <td>10000</td>\n",
       "      <td>3</td>\n",
       "      <td>Standard</td>\n",
       "      <td>3344</td>\n",
       "      <td>NaN</td>\n",
       "      <td>NaN</td>\n",
       "      <td>NaN</td>\n",
       "      <td>NaN</td>\n",
       "      <td>NaN</td>\n",
       "      <td>NaN</td>\n",
       "      <td>NaN</td>\n",
       "    </tr>\n",
       "    <tr>\n",
       "      <th>Distance</th>\n",
       "      <td>10000.0</td>\n",
       "      <td>NaN</td>\n",
       "      <td>NaN</td>\n",
       "      <td>NaN</td>\n",
       "      <td>597.01145</td>\n",
       "      <td>269.047878</td>\n",
       "      <td>47.3</td>\n",
       "      <td>398.875</td>\n",
       "      <td>556.9</td>\n",
       "      <td>750.6</td>\n",
       "      <td>2241.5</td>\n",
       "    </tr>\n",
       "    <tr>\n",
       "      <th>Weight</th>\n",
       "      <td>10000.0</td>\n",
       "      <td>NaN</td>\n",
       "      <td>NaN</td>\n",
       "      <td>NaN</td>\n",
       "      <td>1261.364</td>\n",
       "      <td>495.794054</td>\n",
       "      <td>50.6</td>\n",
       "      <td>923.475</td>\n",
       "      <td>1257.2</td>\n",
       "      <td>1591.425</td>\n",
       "      <td>3138.1</td>\n",
       "    </tr>\n",
       "    <tr>\n",
       "      <th>Stops</th>\n",
       "      <td>10000.0</td>\n",
       "      <td>NaN</td>\n",
       "      <td>NaN</td>\n",
       "      <td>NaN</td>\n",
       "      <td>1.3652</td>\n",
       "      <td>0.584862</td>\n",
       "      <td>1.0</td>\n",
       "      <td>1.0</td>\n",
       "      <td>1.0</td>\n",
       "      <td>2.0</td>\n",
       "      <td>3.0</td>\n",
       "    </tr>\n",
       "    <tr>\n",
       "      <th>ShipmentCost</th>\n",
       "      <td>10000.0</td>\n",
       "      <td>NaN</td>\n",
       "      <td>NaN</td>\n",
       "      <td>NaN</td>\n",
       "      <td>1306.907426</td>\n",
       "      <td>714.36681</td>\n",
       "      <td>50.0</td>\n",
       "      <td>796.4575</td>\n",
       "      <td>1152.445</td>\n",
       "      <td>1666.8875</td>\n",
       "      <td>7477.61</td>\n",
       "    </tr>\n",
       "    <tr>\n",
       "      <th>OnTimeDelivery</th>\n",
       "      <td>10000.0</td>\n",
       "      <td>NaN</td>\n",
       "      <td>NaN</td>\n",
       "      <td>NaN</td>\n",
       "      <td>0.5211</td>\n",
       "      <td>0.49958</td>\n",
       "      <td>0.0</td>\n",
       "      <td>0.0</td>\n",
       "      <td>1.0</td>\n",
       "      <td>1.0</td>\n",
       "      <td>1.0</td>\n",
       "    </tr>\n",
       "  </tbody>\n",
       "</table>\n",
       "</div>"
      ],
      "text/plain": [
       "                  count unique        top  freq         mean         std  \\\n",
       "Origin            10000      8        LAX  1271          NaN         NaN   \n",
       "Destination       10000      8        BOS  1303          NaN         NaN   \n",
       "Carrier           10000      4  BetaLogix  2534          NaN         NaN   \n",
       "ServiceLevel      10000      3   Standard  3344          NaN         NaN   \n",
       "Distance        10000.0    NaN        NaN   NaN    597.01145  269.047878   \n",
       "Weight          10000.0    NaN        NaN   NaN     1261.364  495.794054   \n",
       "Stops           10000.0    NaN        NaN   NaN       1.3652    0.584862   \n",
       "ShipmentCost    10000.0    NaN        NaN   NaN  1306.907426   714.36681   \n",
       "OnTimeDelivery  10000.0    NaN        NaN   NaN       0.5211     0.49958   \n",
       "\n",
       "                 min       25%       50%        75%      max  \n",
       "Origin           NaN       NaN       NaN        NaN      NaN  \n",
       "Destination      NaN       NaN       NaN        NaN      NaN  \n",
       "Carrier          NaN       NaN       NaN        NaN      NaN  \n",
       "ServiceLevel     NaN       NaN       NaN        NaN      NaN  \n",
       "Distance        47.3   398.875     556.9      750.6   2241.5  \n",
       "Weight          50.6   923.475    1257.2   1591.425   3138.1  \n",
       "Stops            1.0       1.0       1.0        2.0      3.0  \n",
       "ShipmentCost    50.0  796.4575  1152.445  1666.8875  7477.61  \n",
       "OnTimeDelivery   0.0       0.0       1.0        1.0      1.0  "
      ]
     },
     "execution_count": 49,
     "metadata": {},
     "output_type": "execute_result"
    }
   ],
   "source": [
    "\n",
    "df.describe(include='all').T.head(20)\n"
   ]
  },
  {
   "cell_type": "code",
   "execution_count": 50,
   "id": "30f2c4fe",
   "metadata": {
    "colab": {
     "base_uri": "https://localhost:8080/",
     "height": 178
    },
    "executionInfo": {
     "elapsed": 14,
     "status": "ok",
     "timestamp": 1755990386094,
     "user": {
      "displayName": "David Surrey",
      "userId": "10091659557754942332"
     },
     "user_tz": 420
    },
    "id": "30f2c4fe",
    "outputId": "dc343865-399a-4e86-febd-bb2a73720545"
   },
   "outputs": [
    {
     "data": {
      "text/plain": [
       "OnTimeDelivery\n",
       "1    0.5211\n",
       "0    0.4789\n",
       "Name: proportion, dtype: float64"
      ]
     },
     "execution_count": 50,
     "metadata": {},
     "output_type": "execute_result"
    }
   ],
   "source": [
    "\n",
    "# Class balance for OnTimeDelivery\n",
    "df['OnTimeDelivery'].value_counts(normalize=True)\n"
   ]
  },
  {
   "cell_type": "code",
   "execution_count": 51,
   "id": "f5835161",
   "metadata": {
    "colab": {
     "base_uri": "https://localhost:8080/",
     "height": 487
    },
    "executionInfo": {
     "elapsed": 793,
     "status": "ok",
     "timestamp": 1755990387553,
     "user": {
      "displayName": "David Surrey",
      "userId": "10091659557754942332"
     },
     "user_tz": 420
    },
    "id": "f5835161",
    "outputId": "7688ef28-44aa-43b0-a52d-d4b0d66411e8"
   },
   "outputs": [
    {
     "data": {
      "image/png": "[encoded data removed]",
      "text/plain": [
       "<Figure size 800x500 with 1 Axes>"
      ]
     },
     "metadata": {},
     "output_type": "display_data"
    }
   ],
   "source": [
    "\n",
    "# Simple visual: distance vs cost\n",
    "plt.figure()\n",
    "plt.scatter(df['Distance'], df['ShipmentCost'], s=8, alpha=0.3)\n",
    "plt.xlabel(\"Distance (mi)\"); plt.ylabel(\"Shipment Cost ($)\"); plt.title(\"Distance vs Cost\")\n",
    "plt.show()\n"
   ]
  },
  {
   "cell_type": "markdown",
   "id": "0fb4a79f",
   "metadata": {
    "id": "0fb4a79f"
   },
   "source": [
    "## 3) Classification: Predict On-Time Delivery"
   ]
  },
  {
   "cell_type": "code",
   "execution_count": 52,
   "id": "9eb44b23",
   "metadata": {
    "colab": {
     "base_uri": "https://localhost:8080/",
     "height": 143
    },
    "executionInfo": {
     "elapsed": 7348,
     "status": "ok",
     "timestamp": 1755990396430,
     "user": {
      "displayName": "David Surrey",
      "userId": "10091659557754942332"
     },
     "user_tz": 420
    },
    "id": "9eb44b23",
    "outputId": "9954b6f4-3c6c-4fda-8867-22d486b547a3"
   },
   "outputs": [
    {
     "data": {
      "text/html": [
       "<div>\n",
       "<style scoped>\n",
       "    .dataframe tbody tr th:only-of-type {\n",
       "        vertical-align: middle;\n",
       "    }\n",
       "\n",
       "    .dataframe tbody tr th {\n",
       "        vertical-align: top;\n",
       "    }\n",
       "\n",
       "    .dataframe thead th {\n",
       "        text-align: right;\n",
       "    }\n",
       "</style>\n",
       "<table border=\"1\" class=\"dataframe\">\n",
       "  <thead>\n",
       "    <tr style=\"text-align: right;\">\n",
       "      <th></th>\n",
       "      <th>accuracy</th>\n",
       "      <th>precision</th>\n",
       "      <th>recall</th>\n",
       "      <th>f1</th>\n",
       "      <th>roc_auc</th>\n",
       "    </tr>\n",
       "  </thead>\n",
       "  <tbody>\n",
       "    <tr>\n",
       "      <th>LogReg</th>\n",
       "      <td>0.5385</td>\n",
       "      <td>0.548335</td>\n",
       "      <td>0.647793</td>\n",
       "      <td>0.593929</td>\n",
       "      <td>0.554017</td>\n",
       "    </tr>\n",
       "    <tr>\n",
       "      <th>Tree</th>\n",
       "      <td>0.5345</td>\n",
       "      <td>0.545982</td>\n",
       "      <td>0.632438</td>\n",
       "      <td>0.586038</td>\n",
       "      <td>0.530384</td>\n",
       "    </tr>\n",
       "    <tr>\n",
       "      <th>RF</th>\n",
       "      <td>0.5165</td>\n",
       "      <td>0.534184</td>\n",
       "      <td>0.562380</td>\n",
       "      <td>0.547920</td>\n",
       "      <td>0.523063</td>\n",
       "    </tr>\n",
       "  </tbody>\n",
       "</table>\n",
       "</div>"
      ],
      "text/plain": [
       "        accuracy  precision    recall        f1   roc_auc\n",
       "LogReg    0.5385   0.548335  0.647793  0.593929  0.554017\n",
       "Tree      0.5345   0.545982  0.632438  0.586038  0.530384\n",
       "RF        0.5165   0.534184  0.562380  0.547920  0.523063"
      ]
     },
     "execution_count": 52,
     "metadata": {},
     "output_type": "execute_result"
    }
   ],
   "source": [
    "\n",
    "X_cls = df.drop(columns=[\"ShipmentCost\", \"OnTimeDelivery\"])\n",
    "y_cls = df[\"OnTimeDelivery\"]\n",
    "\n",
    "num_cols = [\"Distance\", \"Weight\", \"Stops\"]\n",
    "cat_cols = [\"Origin\", \"Destination\", \"Carrier\", \"ServiceLevel\"]\n",
    "\n",
    "preprocess_cls = ColumnTransformer([\n",
    "    (\"num\", StandardScaler(), num_cols),\n",
    "    (\"cat\", OneHotEncoder(handle_unknown=\"ignore\"), cat_cols)\n",
    "])\n",
    "\n",
    "models_cls = {\n",
    "    \"LogReg\": LogisticRegression(max_iter=1000),\n",
    "    \"Tree\": DecisionTreeClassifier(max_depth=8, random_state=RANDOM_SEED),\n",
    "    \"RF\": RandomForestClassifier(n_estimators=200, random_state=RANDOM_SEED)\n",
    "}\n",
    "\n",
    "X_train, X_test, y_train, y_test = train_test_split(X_cls, y_cls, test_size=0.2, random_state=RANDOM_SEED, stratify=y_cls)\n",
    "\n",
    "results_cls = {}\n",
    "for name, mdl in models_cls.items():\n",
    "    pipe = Pipeline([(\"prep\", preprocess_cls), (\"mdl\", mdl)])\n",
    "    pipe.fit(X_train, y_train)\n",
    "    preds = pipe.predict(X_test)\n",
    "    proba = pipe.predict_proba(X_test)[:,1] if hasattr(pipe, \"predict_proba\") else None\n",
    "\n",
    "    acc = accuracy_score(y_test, preds)\n",
    "    prec = precision_score(y_test, preds)\n",
    "    rec = recall_score(y_test, preds)\n",
    "    f1 = f1_score(y_test, preds)\n",
    "    auc = roc_auc_score(y_test, proba) if proba is not None else np.nan\n",
    "\n",
    "    results_cls[name] = dict(accuracy=acc, precision=prec, recall=rec, f1=f1, roc_auc=auc)\n",
    "\n",
    "pd.DataFrame(results_cls).T\n"
   ]
  },
  {
   "cell_type": "code",
   "execution_count": 53,
   "id": "41abdb49",
   "metadata": {
    "colab": {
     "base_uri": "https://localhost:8080/",
     "height": 504
    },
    "executionInfo": {
     "elapsed": 196,
     "status": "ok",
     "timestamp": 1755990396623,
     "user": {
      "displayName": "David Surrey",
      "userId": "10091659557754942332"
     },
     "user_tz": 420
    },
    "id": "41abdb49",
    "outputId": "f345074c-d5e2-48d7-95bb-59e38d5eef77"
   },
   "outputs": [
    {
     "name": "stdout",
     "output_type": "stream",
     "text": [
      "Saved: C:\\Users\\dsurr\\ibm_certs\\SupplyChainHealthCare\\proj_01\\models\\supply_chain_on_time_model.pkl\n"
     ]
    },
    {
     "data": {
      "image/png": "[encoded data removed]",
      "text/plain": [
       "<Figure size 800x500 with 2 Axes>"
      ]
     },
     "metadata": {},
     "output_type": "display_data"
    }
   ],
   "source": [
    "\n",
    "# Pick best by F1 then AUC\n",
    "res_df = pd.DataFrame(results_cls).T\n",
    "best_name = res_df.sort_values(by=[\"f1\",\"roc_auc\"], ascending=False).index[0]\n",
    "best_cls_pipe = Pipeline([(\"prep\", preprocess_cls), (\"mdl\", models_cls[best_name])])\n",
    "best_cls_pipe.fit(X_train, y_train)\n",
    "\n",
    "# Persist\n",
    "joblib.dump(best_cls_pipe, MODELS / \"supply_chain_on_time_model.pkl\")\n",
    "print(\"Saved:\", MODELS / \"supply_chain_on_time_model.pkl\")\n",
    "\n",
    "# Confusion matrix\n",
    "y_pred = best_cls_pipe.predict(X_test)\n",
    "cm = confusion_matrix(y_test, y_pred)\n",
    "disp = ConfusionMatrixDisplay(cm)\n",
    "disp.plot()\n",
    "plt.title(f\"Confusion Matrix — {best_name}\")\n",
    "plt.show()\n"
   ]
  },
  {
   "cell_type": "markdown",
   "id": "44f6c73b",
   "metadata": {
    "id": "44f6c73b"
   },
   "source": [
    "## 4) Regression: Predict Shipment Cost"
   ]
  },
  {
   "cell_type": "code",
   "execution_count": 54,
   "id": "ef3bb716",
   "metadata": {
    "colab": {
     "base_uri": "https://localhost:8080/",
     "height": 143
    },
    "executionInfo": {
     "elapsed": 44890,
     "status": "ok",
     "timestamp": 1755990441514,
     "user": {
      "displayName": "David Surrey",
      "userId": "10091659557754942332"
     },
     "user_tz": 420
    },
    "id": "ef3bb716",
    "outputId": "f2e37386-7217-4f9f-ad46-8d780a5dcd78"
   },
   "outputs": [
    {
     "data": {
      "text/html": [
       "<div>\n",
       "<style scoped>\n",
       "    .dataframe tbody tr th:only-of-type {\n",
       "        vertical-align: middle;\n",
       "    }\n",
       "\n",
       "    .dataframe tbody tr th {\n",
       "        vertical-align: top;\n",
       "    }\n",
       "\n",
       "    .dataframe thead th {\n",
       "        text-align: right;\n",
       "    }\n",
       "</style>\n",
       "<table border=\"1\" class=\"dataframe\">\n",
       "  <thead>\n",
       "    <tr style=\"text-align: right;\">\n",
       "      <th></th>\n",
       "      <th>RMSE</th>\n",
       "      <th>R2</th>\n",
       "    </tr>\n",
       "  </thead>\n",
       "  <tbody>\n",
       "    <tr>\n",
       "      <th>Linear</th>\n",
       "      <td>198.629829</td>\n",
       "      <td>0.920494</td>\n",
       "    </tr>\n",
       "    <tr>\n",
       "      <th>TreeReg</th>\n",
       "      <td>128.109648</td>\n",
       "      <td>0.966927</td>\n",
       "    </tr>\n",
       "    <tr>\n",
       "      <th>RFReg</th>\n",
       "      <td>101.563417</td>\n",
       "      <td>0.979213</td>\n",
       "    </tr>\n",
       "  </tbody>\n",
       "</table>\n",
       "</div>"
      ],
      "text/plain": [
       "               RMSE        R2\n",
       "Linear   198.629829  0.920494\n",
       "TreeReg  128.109648  0.966927\n",
       "RFReg    101.563417  0.979213"
      ]
     },
     "execution_count": 54,
     "metadata": {},
     "output_type": "execute_result"
    }
   ],
   "source": [
    "\n",
    "X_reg = df.drop(columns=[\"ShipmentCost\", \"OnTimeDelivery\"])\n",
    "y_reg = df[\"ShipmentCost\"]\n",
    "\n",
    "preprocess_reg = ColumnTransformer([\n",
    "    (\"num\", StandardScaler(), num_cols),\n",
    "    (\"cat\", OneHotEncoder(handle_unknown=\"ignore\"), cat_cols)\n",
    "])\n",
    "\n",
    "models_reg = {\n",
    "    \"Linear\": LinearRegression(),\n",
    "    \"TreeReg\": DecisionTreeRegressor(max_depth=10, random_state=RANDOM_SEED),\n",
    "    \"RFReg\": RandomForestRegressor(n_estimators=300, random_state=RANDOM_SEED)\n",
    "}\n",
    "\n",
    "Xtr, Xte, ytr, yte = train_test_split(X_reg, y_reg, test_size=0.2, random_state=RANDOM_SEED)\n",
    "\n",
    "res_reg = {}\n",
    "for name, mdl in models_reg.items():\n",
    "    pipe = Pipeline([(\"prep\", preprocess_reg), (\"mdl\", mdl)])\n",
    "    pipe.fit(Xtr, ytr)\n",
    "    pred = pipe.predict(Xte)\n",
    "    mse = mean_squared_error(yte, pred)\n",
    "    rmse = np.sqrt(mse)\n",
    "    r2 = r2_score(yte, pred)\n",
    "    res_reg[name] = dict(RMSE=rmse, R2=r2)\n",
    "\n",
    "pd.DataFrame(res_reg).T\n"
   ]
  },
  {
   "cell_type": "code",
   "execution_count": 55,
   "id": "1da6a3c0",
   "metadata": {
    "colab": {
     "base_uri": "https://localhost:8080/"
    },
    "executionInfo": {
     "elapsed": 43527,
     "status": "ok",
     "timestamp": 1755990485038,
     "user": {
      "displayName": "David Surrey",
      "userId": "10091659557754942332"
     },
     "user_tz": 420
    },
    "id": "1da6a3c0",
    "outputId": "a31f516f-e48c-4cfd-8f0e-cf0f961eb9eb"
   },
   "outputs": [
    {
     "name": "stdout",
     "output_type": "stream",
     "text": [
      "Saved: C:\\Users\\dsurr\\ibm_certs\\SupplyChainHealthCare\\proj_01\\models\\supply_chain_cost_model.pkl\n"
     ]
    }
   ],
   "source": [
    "\n",
    "# Pick best by RMSE (lower is better), then R2\n",
    "reg_df = pd.DataFrame(res_reg).T\n",
    "best_reg = reg_df.sort_values(by=[\"RMSE\",\"R2\"], ascending=[True, False]).index[0]\n",
    "best_reg_pipe = Pipeline([(\"prep\", preprocess_reg), (\"mdl\", models_reg[best_reg])]).fit(Xtr, ytr)\n",
    "joblib.dump(best_reg_pipe, MODELS / \"supply_chain_cost_model.pkl\")\n",
    "print(\"Saved:\", MODELS / \"supply_chain_cost_model.pkl\")\n"
   ]
  },
  {
   "cell_type": "markdown",
   "id": "e0815d57",
   "metadata": {
    "id": "e0815d57"
   },
   "source": [
    "## 5) Export Reliability Stats by Carrier & Lane (for Unified App)"
   ]
  },
  {
   "cell_type": "code",
   "execution_count": 56,
   "id": "95fb6860",
   "metadata": {
    "colab": {
     "base_uri": "https://localhost:8080/",
     "height": 363
    },
    "executionInfo": {
     "elapsed": 4,
     "status": "ok",
     "timestamp": 1755990485041,
     "user": {
      "displayName": "David Surrey",
      "userId": "10091659557754942332"
     },
     "user_tz": 420
    },
    "id": "95fb6860",
    "outputId": "1b8196dc-19a3-471d-837a-499bf2d399a1"
   },
   "outputs": [
    {
     "data": {
      "text/html": [
       "<div>\n",
       "<style scoped>\n",
       "    .dataframe tbody tr th:only-of-type {\n",
       "        vertical-align: middle;\n",
       "    }\n",
       "\n",
       "    .dataframe tbody tr th {\n",
       "        vertical-align: top;\n",
       "    }\n",
       "\n",
       "    .dataframe thead th {\n",
       "        text-align: right;\n",
       "    }\n",
       "</style>\n",
       "<table border=\"1\" class=\"dataframe\">\n",
       "  <thead>\n",
       "    <tr style=\"text-align: right;\">\n",
       "      <th></th>\n",
       "      <th>Origin</th>\n",
       "      <th>Destination</th>\n",
       "      <th>Carrier</th>\n",
       "      <th>count</th>\n",
       "      <th>on_time_rate</th>\n",
       "      <th>avg_distance</th>\n",
       "      <th>avg_cost</th>\n",
       "    </tr>\n",
       "  </thead>\n",
       "  <tbody>\n",
       "    <tr>\n",
       "      <th>179</th>\n",
       "      <td>LAX</td>\n",
       "      <td>NYC</td>\n",
       "      <td>GammaFreight</td>\n",
       "      <td>37</td>\n",
       "      <td>0.810811</td>\n",
       "      <td>693.075676</td>\n",
       "      <td>1489.982432</td>\n",
       "    </tr>\n",
       "    <tr>\n",
       "      <th>140</th>\n",
       "      <td>HOU</td>\n",
       "      <td>MSP</td>\n",
       "      <td>AlphaTrans</td>\n",
       "      <td>32</td>\n",
       "      <td>0.781250</td>\n",
       "      <td>684.490625</td>\n",
       "      <td>1589.083437</td>\n",
       "    </tr>\n",
       "    <tr>\n",
       "      <th>176</th>\n",
       "      <td>LAX</td>\n",
       "      <td>NYC</td>\n",
       "      <td>AlphaTrans</td>\n",
       "      <td>49</td>\n",
       "      <td>0.775510</td>\n",
       "      <td>585.467347</td>\n",
       "      <td>1330.187347</td>\n",
       "    </tr>\n",
       "    <tr>\n",
       "      <th>104</th>\n",
       "      <td>DEN</td>\n",
       "      <td>MIA</td>\n",
       "      <td>AlphaTrans</td>\n",
       "      <td>39</td>\n",
       "      <td>0.769231</td>\n",
       "      <td>620.333333</td>\n",
       "      <td>1260.059231</td>\n",
       "    </tr>\n",
       "    <tr>\n",
       "      <th>208</th>\n",
       "      <td>PHX</td>\n",
       "      <td>NYC</td>\n",
       "      <td>AlphaTrans</td>\n",
       "      <td>29</td>\n",
       "      <td>0.724138</td>\n",
       "      <td>596.251724</td>\n",
       "      <td>1272.819655</td>\n",
       "    </tr>\n",
       "    <tr>\n",
       "      <th>191</th>\n",
       "      <td>LAX</td>\n",
       "      <td>SJC</td>\n",
       "      <td>GammaFreight</td>\n",
       "      <td>31</td>\n",
       "      <td>0.709677</td>\n",
       "      <td>626.722581</td>\n",
       "      <td>1293.101935</td>\n",
       "    </tr>\n",
       "    <tr>\n",
       "      <th>180</th>\n",
       "      <td>LAX</td>\n",
       "      <td>PHL</td>\n",
       "      <td>AlphaTrans</td>\n",
       "      <td>34</td>\n",
       "      <td>0.705882</td>\n",
       "      <td>562.652941</td>\n",
       "      <td>1140.097059</td>\n",
       "    </tr>\n",
       "    <tr>\n",
       "      <th>251</th>\n",
       "      <td>SEA</td>\n",
       "      <td>SFO</td>\n",
       "      <td>GammaFreight</td>\n",
       "      <td>37</td>\n",
       "      <td>0.702703</td>\n",
       "      <td>551.040541</td>\n",
       "      <td>1238.208378</td>\n",
       "    </tr>\n",
       "    <tr>\n",
       "      <th>152</th>\n",
       "      <td>HOU</td>\n",
       "      <td>SFO</td>\n",
       "      <td>AlphaTrans</td>\n",
       "      <td>37</td>\n",
       "      <td>0.702703</td>\n",
       "      <td>595.067568</td>\n",
       "      <td>1357.348378</td>\n",
       "    </tr>\n",
       "    <tr>\n",
       "      <th>136</th>\n",
       "      <td>HOU</td>\n",
       "      <td>MIA</td>\n",
       "      <td>AlphaTrans</td>\n",
       "      <td>42</td>\n",
       "      <td>0.690476</td>\n",
       "      <td>557.945238</td>\n",
       "      <td>1271.223810</td>\n",
       "    </tr>\n",
       "  </tbody>\n",
       "</table>\n",
       "</div>"
      ],
      "text/plain": [
       "    Origin Destination       Carrier  count  on_time_rate  avg_distance  \\\n",
       "179    LAX         NYC  GammaFreight     37      0.810811    693.075676   \n",
       "140    HOU         MSP    AlphaTrans     32      0.781250    684.490625   \n",
       "176    LAX         NYC    AlphaTrans     49      0.775510    585.467347   \n",
       "104    DEN         MIA    AlphaTrans     39      0.769231    620.333333   \n",
       "208    PHX         NYC    AlphaTrans     29      0.724138    596.251724   \n",
       "191    LAX         SJC  GammaFreight     31      0.709677    626.722581   \n",
       "180    LAX         PHL    AlphaTrans     34      0.705882    562.652941   \n",
       "251    SEA         SFO  GammaFreight     37      0.702703    551.040541   \n",
       "152    HOU         SFO    AlphaTrans     37      0.702703    595.067568   \n",
       "136    HOU         MIA    AlphaTrans     42      0.690476    557.945238   \n",
       "\n",
       "        avg_cost  \n",
       "179  1489.982432  \n",
       "140  1589.083437  \n",
       "176  1330.187347  \n",
       "104  1260.059231  \n",
       "208  1272.819655  \n",
       "191  1293.101935  \n",
       "180  1140.097059  \n",
       "251  1238.208378  \n",
       "152  1357.348378  \n",
       "136  1271.223810  "
      ]
     },
     "execution_count": 56,
     "metadata": {},
     "output_type": "execute_result"
    }
   ],
   "source": [
    "\n",
    "# Aggregate on-time metrics by (Origin, Destination, Carrier)\n",
    "grp = df.groupby([\"Origin\",\"Destination\",\"Carrier\"]).agg(\n",
    "    count=(\"OnTimeDelivery\",\"size\"),\n",
    "    on_time_rate=(\"OnTimeDelivery\",\"mean\"),\n",
    "    avg_distance=(\"Distance\",\"mean\"),\n",
    "    avg_cost=(\"ShipmentCost\",\"mean\")\n",
    ").reset_index()\n",
    "\n",
    "grp.to_csv(DATA / \"carrier_lane_stats.csv\", index=False)\n",
    "grp.sort_values(\"on_time_rate\", ascending=False).head(10)\n"
   ]
  },
  {
   "cell_type": "code",
   "execution_count": null,
   "id": "mdCjLp6ZLwHX",
   "metadata": {
    "id": "mdCjLp6ZLwHX"
   },
   "outputs": [],
   "source": []
  }
 ],
 "metadata": {
  "colab": {
   "provenance": []
  },
  "kernelspec": {
   "display_name": "Python 3 (ipykernel)",
   "language": "python",
   "name": "python3"
  },
  "language_info": {
   "codemirror_mode": {
    "name": "ipython",
    "version": 3
   },
   "file_extension": ".py",
   "mimetype": "text/x-python",
   "name": "python",
   "nbconvert_exporter": "python",
   "pygments_lexer": "ipython3",
   "version": "3.12.10"
  }
 },
 "nbformat": 4,
 "nbformat_minor": 5
}
