{
 "cells": [
  {
   "cell_type": "markdown",
   "id": "4d1f1b06",
   "metadata": {
    "id": "4d1f1b06"
   },
   "source": [
    "# proj_01 — Unified Healthcare + Supply Chain Decisioning\n",
    "This notebook loads the trained models from the supply chain and healthcare tracks, and demonstrates a simple policy: given a hospital, medicine, lane, and carrier, decide whether to **order now** or **wait**, considering both inventory risk and delivery risk."
   ]
  },
  {
   "cell_type": "code",
   "execution_count": 1,
   "id": "06de6062",
   "metadata": {
    "executionInfo": {
     "elapsed": 6895,
     "status": "ok",
     "timestamp": 1755990538778,
     "user": {
      "displayName": "David Surrey",
      "userId": "10091659557754942332"
     },
     "user_tz": 420
    },
    "id": "06de6062"
   },
   "outputs": [],
   "source": [
    "\n",
    "# Standard imports\n",
    "import numpy as np\n",
    "import pandas as pd\n",
    "import matplotlib.pyplot as plt\n",
    "\n",
    "# ML imports\n",
    "from sklearn.model_selection import train_test_split, cross_val_score, StratifiedKFold, KFold\n",
    "from sklearn.preprocessing import OneHotEncoder, StandardScaler\n",
    "from sklearn.compose import ColumnTransformer\n",
    "from sklearn.pipeline import Pipeline\n",
    "from sklearn.metrics import (accuracy_score, precision_score, recall_score, f1_score, roc_auc_score,\n",
    "                             confusion_matrix, ConfusionMatrixDisplay, mean_squared_error, r2_score)\n",
    "from sklearn.linear_model import LogisticRegression, LinearRegression\n",
    "from sklearn.tree import DecisionTreeClassifier, DecisionTreeRegressor\n",
    "from sklearn.ensemble import RandomForestClassifier, RandomForestRegressor\n",
    "\n",
    "import joblib\n",
    "import os\n",
    "\n",
    "RANDOM_SEED = 42\n",
    "np.random.seed(RANDOM_SEED)\n",
    "\n",
    "import pathlib\n",
    "\n",
    "# Get the project root (the folder where streamlit_app.py and notebooks live)\n",
    "PROJECT_DIR = pathlib.Path(__file__).resolve().parents[1] if \"__file__\" in globals() else pathlib.Path(os.getcwd()) / \"proj_01\"\n",
    "\n",
    "ASSETS = PROJECT_DIR / \"proj_01_assets\"\n",
    "ASSETS.mkdir(parents=True, exist_ok=True)\n",
    "\n",
    "import itertools"
   ]
  },
  {
   "cell_type": "code",
   "execution_count": null,
   "id": "10e70609",
   "metadata": {},
   "outputs": [],
   "source": [
    "\n",
    "# --- Standardized paths for repo-friendly saves ---\n",
    "from pathlib import Path\n",
    "import os\n",
    "\n",
    "# Resolve project root whether running from repo root or notebooks/\n",
    "ROOT = Path.cwd()\n",
    "if ROOT.name == \"notebooks\":\n",
    "    ROOT = ROOT.parent\n",
    "\n",
    "DATA = ROOT / \"proj_01\" / \"data\" if (ROOT / \"proj_01\").exists() else ROOT / \"data\"\n",
    "MODELS = ROOT / \"proj_01\" / \"models\" if (ROOT / \"proj_01\").exists() else ROOT / \"models\"\n",
    "\n",
    "DATA.mkdir(parents=True, exist_ok=True)\n",
    "MODELS.mkdir(parents=True, exist_ok=True)\n",
    "\n",
    "print(f\"Saving CSVs to: {DATA}\")\n",
    "print(f\"Saving models to: {MODELS}\")\n"
   ]
  },
  {
   "cell_type": "code",
   "execution_count": 2,
   "id": "7359f616",
   "metadata": {
    "executionInfo": {
     "elapsed": 7,
     "status": "ok",
     "timestamp": 1755990538783,
     "user": {
      "displayName": "David Surrey",
      "userId": "10091659557754942332"
     },
     "user_tz": 420
    },
    "id": "7359f616"
   },
   "outputs": [],
   "source": [
    "\n",
    "# Matplotlib settings (default colors, single-plot rule honored in guidance)\n",
    "plt.rcParams[\"figure.figsize\"] = (8,5)\n",
    "plt.rcParams[\"axes.grid\"] = True\n"
   ]
  },
  {
   "cell_type": "markdown",
   "id": "fa0a3600",
   "metadata": {
    "id": "fa0a3600"
   },
   "source": [
    "## 1) Load Assets"
   ]
  },
  {
   "cell_type": "code",
   "execution_count": 4,
   "id": "b16a4b20",
   "metadata": {
    "colab": {
     "base_uri": "https://localhost:8080/",
     "height": 356
    },
    "executionInfo": {
     "elapsed": 244,
     "status": "error",
     "timestamp": 1755990539552,
     "user": {
      "displayName": "David Surrey",
      "userId": "10091659557754942332"
     },
     "user_tz": 420
    },
    "id": "b16a4b20",
    "outputId": "63fbf527-5415-4c79-9f9c-a3b32b6a628a"
   },
   "outputs": [
    {
     "ename": "FileNotFoundError",
     "evalue": "[Errno 2] No such file or directory: 'proj_01_assets/supply_chain_shipments.csv'",
     "output_type": "error",
     "traceback": [
      "\u001b[0;31m---------------------------------------------------------------------------\u001b[0m",
      "\u001b[0;31mFileNotFoundError\u001b[0m                         Traceback (most recent call last)",
      "\u001b[0;32m/tmp/ipython-input-3763724540.py\u001b[0m in \u001b[0;36m<cell line: 0>\u001b[0;34m()\u001b[0m\n\u001b[1;32m      2\u001b[0m \u001b[0;34m\u001b[0m\u001b[0m\n\u001b[1;32m      3\u001b[0m \u001b[0massets_path\u001b[0m \u001b[0;34m=\u001b[0m \u001b[0mPath\u001b[0m\u001b[0;34m(\u001b[0m\u001b[0;34m\"proj_01_assets\"\u001b[0m\u001b[0;34m)\u001b[0m\u001b[0;34m\u001b[0m\u001b[0;34m\u001b[0m\u001b[0m\n\u001b[0;32m----> 4\u001b[0;31m \u001b[0msc_shipments\u001b[0m \u001b[0;34m=\u001b[0m \u001b[0mpd\u001b[0m\u001b[0;34m.\u001b[0m\u001b[0mread_csv\u001b[0m\u001b[0;34m(\u001b[0m\u001b[0massets_path\u001b[0m \u001b[0;34m/\u001b[0m \u001b[0;34m\"supply_chain_shipments.csv\"\u001b[0m\u001b[0;34m)\u001b[0m\u001b[0;34m\u001b[0m\u001b[0;34m\u001b[0m\u001b[0m\n\u001b[0m\u001b[1;32m      5\u001b[0m \u001b[0mhc_df\u001b[0m \u001b[0;34m=\u001b[0m \u001b[0mpd\u001b[0m\u001b[0;34m.\u001b[0m\u001b[0mread_csv\u001b[0m\u001b[0;34m(\u001b[0m\u001b[0massets_path\u001b[0m \u001b[0;34m/\u001b[0m \u001b[0;34m\"healthcare_demand.csv\"\u001b[0m\u001b[0;34m)\u001b[0m\u001b[0;34m\u001b[0m\u001b[0;34m\u001b[0m\u001b[0m\n\u001b[1;32m      6\u001b[0m \u001b[0mcarrier_lane_stats\u001b[0m \u001b[0;34m=\u001b[0m \u001b[0mpd\u001b[0m\u001b[0;34m.\u001b[0m\u001b[0mread_csv\u001b[0m\u001b[0;34m(\u001b[0m\u001b[0massets_path\u001b[0m \u001b[0;34m/\u001b[0m \u001b[0;34m\"carrier_lane_stats.csv\"\u001b[0m\u001b[0;34m)\u001b[0m\u001b[0;34m\u001b[0m\u001b[0;34m\u001b[0m\u001b[0m\n",
      "\u001b[0;32m/usr/local/lib/python3.12/dist-packages/pandas/io/parsers/readers.py\u001b[0m in \u001b[0;36mread_csv\u001b[0;34m(filepath_or_buffer, sep, delimiter, header, names, index_col, usecols, dtype, engine, converters, true_values, false_values, skipinitialspace, skiprows, skipfooter, nrows, na_values, keep_default_na, na_filter, verbose, skip_blank_lines, parse_dates, infer_datetime_format, keep_date_col, date_parser, date_format, dayfirst, cache_dates, iterator, chunksize, compression, thousands, decimal, lineterminator, quotechar, quoting, doublequote, escapechar, comment, encoding, encoding_errors, dialect, on_bad_lines, delim_whitespace, low_memory, memory_map, float_precision, storage_options, dtype_backend)\u001b[0m\n\u001b[1;32m   1024\u001b[0m     \u001b[0mkwds\u001b[0m\u001b[0;34m.\u001b[0m\u001b[0mupdate\u001b[0m\u001b[0;34m(\u001b[0m\u001b[0mkwds_defaults\u001b[0m\u001b[0;34m)\u001b[0m\u001b[0;34m\u001b[0m\u001b[0;34m\u001b[0m\u001b[0m\n\u001b[1;32m   1025\u001b[0m \u001b[0;34m\u001b[0m\u001b[0m\n\u001b[0;32m-> 1026\u001b[0;31m     \u001b[0;32mreturn\u001b[0m \u001b[0m_read\u001b[0m\u001b[0;34m(\u001b[0m\u001b[0mfilepath_or_buffer\u001b[0m\u001b[0;34m,\u001b[0m \u001b[0mkwds\u001b[0m\u001b[0;34m)\u001b[0m\u001b[0;34m\u001b[0m\u001b[0;34m\u001b[0m\u001b[0m\n\u001b[0m\u001b[1;32m   1027\u001b[0m \u001b[0;34m\u001b[0m\u001b[0m\n\u001b[1;32m   1028\u001b[0m \u001b[0;34m\u001b[0m\u001b[0m\n",
      "\u001b[0;32m/usr/local/lib/python3.12/dist-packages/pandas/io/parsers/readers.py\u001b[0m in \u001b[0;36m_read\u001b[0;34m(filepath_or_buffer, kwds)\u001b[0m\n\u001b[1;32m    618\u001b[0m \u001b[0;34m\u001b[0m\u001b[0m\n\u001b[1;32m    619\u001b[0m     \u001b[0;31m# Create the parser.\u001b[0m\u001b[0;34m\u001b[0m\u001b[0;34m\u001b[0m\u001b[0m\n\u001b[0;32m--> 620\u001b[0;31m     \u001b[0mparser\u001b[0m \u001b[0;34m=\u001b[0m \u001b[0mTextFileReader\u001b[0m\u001b[0;34m(\u001b[0m\u001b[0mfilepath_or_buffer\u001b[0m\u001b[0;34m,\u001b[0m \u001b[0;34m**\u001b[0m\u001b[0mkwds\u001b[0m\u001b[0;34m)\u001b[0m\u001b[0;34m\u001b[0m\u001b[0;34m\u001b[0m\u001b[0m\n\u001b[0m\u001b[1;32m    621\u001b[0m \u001b[0;34m\u001b[0m\u001b[0m\n\u001b[1;32m    622\u001b[0m     \u001b[0;32mif\u001b[0m \u001b[0mchunksize\u001b[0m \u001b[0;32mor\u001b[0m \u001b[0miterator\u001b[0m\u001b[0;34m:\u001b[0m\u001b[0;34m\u001b[0m\u001b[0;34m\u001b[0m\u001b[0m\n",
      "\u001b[0;32m/usr/local/lib/python3.12/dist-packages/pandas/io/parsers/readers.py\u001b[0m in \u001b[0;36m__init__\u001b[0;34m(self, f, engine, **kwds)\u001b[0m\n\u001b[1;32m   1618\u001b[0m \u001b[0;34m\u001b[0m\u001b[0m\n\u001b[1;32m   1619\u001b[0m         \u001b[0mself\u001b[0m\u001b[0;34m.\u001b[0m\u001b[0mhandles\u001b[0m\u001b[0;34m:\u001b[0m \u001b[0mIOHandles\u001b[0m \u001b[0;34m|\u001b[0m \u001b[0;32mNone\u001b[0m \u001b[0;34m=\u001b[0m \u001b[0;32mNone\u001b[0m\u001b[0;34m\u001b[0m\u001b[0;34m\u001b[0m\u001b[0m\n\u001b[0;32m-> 1620\u001b[0;31m         \u001b[0mself\u001b[0m\u001b[0;34m.\u001b[0m\u001b[0m_engine\u001b[0m \u001b[0;34m=\u001b[0m \u001b[0mself\u001b[0m\u001b[0;34m.\u001b[0m\u001b[0m_make_engine\u001b[0m\u001b[0;34m(\u001b[0m\u001b[0mf\u001b[0m\u001b[0;34m,\u001b[0m \u001b[0mself\u001b[0m\u001b[0;34m.\u001b[0m\u001b[0mengine\u001b[0m\u001b[0;34m)\u001b[0m\u001b[0;34m\u001b[0m\u001b[0;34m\u001b[0m\u001b[0m\n\u001b[0m\u001b[1;32m   1621\u001b[0m \u001b[0;34m\u001b[0m\u001b[0m\n\u001b[1;32m   1622\u001b[0m     \u001b[0;32mdef\u001b[0m \u001b[0mclose\u001b[0m\u001b[0;34m(\u001b[0m\u001b[0mself\u001b[0m\u001b[0;34m)\u001b[0m \u001b[0;34m->\u001b[0m \u001b[0;32mNone\u001b[0m\u001b[0;34m:\u001b[0m\u001b[0;34m\u001b[0m\u001b[0;34m\u001b[0m\u001b[0m\n",
      "\u001b[0;32m/usr/local/lib/python3.12/dist-packages/pandas/io/parsers/readers.py\u001b[0m in \u001b[0;36m_make_engine\u001b[0;34m(self, f, engine)\u001b[0m\n\u001b[1;32m   1878\u001b[0m                 \u001b[0;32mif\u001b[0m \u001b[0;34m\"b\"\u001b[0m \u001b[0;32mnot\u001b[0m \u001b[0;32min\u001b[0m \u001b[0mmode\u001b[0m\u001b[0;34m:\u001b[0m\u001b[0;34m\u001b[0m\u001b[0;34m\u001b[0m\u001b[0m\n\u001b[1;32m   1879\u001b[0m                     \u001b[0mmode\u001b[0m \u001b[0;34m+=\u001b[0m \u001b[0;34m\"b\"\u001b[0m\u001b[0;34m\u001b[0m\u001b[0;34m\u001b[0m\u001b[0m\n\u001b[0;32m-> 1880\u001b[0;31m             self.handles = get_handle(\n\u001b[0m\u001b[1;32m   1881\u001b[0m                 \u001b[0mf\u001b[0m\u001b[0;34m,\u001b[0m\u001b[0;34m\u001b[0m\u001b[0;34m\u001b[0m\u001b[0m\n\u001b[1;32m   1882\u001b[0m                 \u001b[0mmode\u001b[0m\u001b[0;34m,\u001b[0m\u001b[0;34m\u001b[0m\u001b[0;34m\u001b[0m\u001b[0m\n",
      "\u001b[0;32m/usr/local/lib/python3.12/dist-packages/pandas/io/common.py\u001b[0m in \u001b[0;36mget_handle\u001b[0;34m(path_or_buf, mode, encoding, compression, memory_map, is_text, errors, storage_options)\u001b[0m\n\u001b[1;32m    871\u001b[0m         \u001b[0;32mif\u001b[0m \u001b[0mioargs\u001b[0m\u001b[0;34m.\u001b[0m\u001b[0mencoding\u001b[0m \u001b[0;32mand\u001b[0m \u001b[0;34m\"b\"\u001b[0m \u001b[0;32mnot\u001b[0m \u001b[0;32min\u001b[0m \u001b[0mioargs\u001b[0m\u001b[0;34m.\u001b[0m\u001b[0mmode\u001b[0m\u001b[0;34m:\u001b[0m\u001b[0;34m\u001b[0m\u001b[0;34m\u001b[0m\u001b[0m\n\u001b[1;32m    872\u001b[0m             \u001b[0;31m# Encoding\u001b[0m\u001b[0;34m\u001b[0m\u001b[0;34m\u001b[0m\u001b[0m\n\u001b[0;32m--> 873\u001b[0;31m             handle = open(\n\u001b[0m\u001b[1;32m    874\u001b[0m                 \u001b[0mhandle\u001b[0m\u001b[0;34m,\u001b[0m\u001b[0;34m\u001b[0m\u001b[0;34m\u001b[0m\u001b[0m\n\u001b[1;32m    875\u001b[0m                 \u001b[0mioargs\u001b[0m\u001b[0;34m.\u001b[0m\u001b[0mmode\u001b[0m\u001b[0;34m,\u001b[0m\u001b[0;34m\u001b[0m\u001b[0;34m\u001b[0m\u001b[0m\n",
      "\u001b[0;31mFileNotFoundError\u001b[0m: [Errno 2] No such file or directory: 'proj_01_assets/supply_chain_shipments.csv'"
     ]
    }
   ],
   "source": [
    "\n",
    "from pathlib import Path\n",
    "\n",
    "# assets_path = Path(\"proj_01_assets\")\n",
    "assets_path = ASSETS\n",
    "sc_shipments = pd.read_csv(assets_path / \"supply_chain_shipments.csv\")\n",
    "hc_df = pd.read_csv(assets_path / \"healthcare_demand.csv\")\n",
    "carrier_lane_stats = pd.read_csv(assets_path / \"carrier_lane_stats.csv\")\n",
    "\n",
    "sc_on_time_model = joblib.load(assets_path / \"supply_chain_on_time_model.pkl\")\n",
    "sc_cost_model = joblib.load(assets_path / \"supply_chain_cost_model.pkl\")\n",
    "hc_demand_model = joblib.load(assets_path / \"healthcare_demand_model.pkl\")\n",
    "hc_shortage_model = joblib.load(assets_path / \"healthcare_shortage_model.pkl\")\n",
    "\n",
    "sc_shipments.head(3), hc_df.head(3), carrier_lane_stats.head(3)\n"
   ]
  },
  {
   "cell_type": "markdown",
   "id": "1d4bfdfa",
   "metadata": {
    "id": "1d4bfdfa"
   },
   "source": [
    "## 2) Policy Function"
   ]
  },
  {
   "cell_type": "code",
   "execution_count": null,
   "id": "18fbd19d",
   "metadata": {
    "id": "18fbd19d"
   },
   "outputs": [],
   "source": [
    "\n",
    "def recommend_order(hospital:str, medicine:str, month:int,\n",
    "                    origin:str, destination:str, carrier:str, service_level:str,\n",
    "                    current_inventory:int, lead_time_days:int, stops:int=1, weight:float=1200.0, distance:float=None):\n",
    "    \"\"\"\n",
    "    Combine healthcare demand/shortage predictions with supply chain on-time probability and cost.\n",
    "    Returns a dict with recommendation and details.\n",
    "    \"\"\"\n",
    "    # 1) Predict demand for (hospital, region inferred from hc_df, medicine, month)\n",
    "    region = hc_df.loc[hc_df['Hospital']==hospital, 'Region'].iloc[0] if hospital in hc_df['Hospital'].unique() else \"MW\"\n",
    "    x_reg = pd.DataFrame([{\n",
    "        \"Hospital\": hospital, \"Region\": region, \"Medicine\": medicine,\n",
    "        \"Month\": month, \"Inventory\": current_inventory, \"LeadTimeDays\": lead_time_days\n",
    "    }])\n",
    "    demand_pred = float(hc_demand_model.predict(x_reg)[0])\n",
    "\n",
    "    # 2) Shortage risk given current inventory\n",
    "    x_cls = x_reg.copy()\n",
    "    shortage_prob = float(hc_shortage_model.predict_proba(x_cls)[0,1])\n",
    "    shortage_flag = int(shortage_prob >= 0.5)\n",
    "\n",
    "    # 3) Supply chain on-time probability (need a shipment feature row)\n",
    "    if distance is None:\n",
    "        # estimate using average lane distance from historical data (fallback if not present)\n",
    "        lane = sc_shipments[(sc_shipments['Origin']==origin) & (sc_shipments['Destination']==destination)]\n",
    "        if len(lane) >= 5:\n",
    "            distance = float(lane['Distance'].mean())\n",
    "        else:\n",
    "            distance = 800.0\n",
    "    x_sc = pd.DataFrame([{\n",
    "        \"Origin\": origin, \"Destination\": destination, \"Carrier\": carrier, \"ServiceLevel\": service_level,\n",
    "        \"Distance\": distance, \"Weight\": weight, \"Stops\": stops\n",
    "    }])\n",
    "    on_time_prob = float(sc_on_time_model.predict_proba(x_sc)[0,1])\n",
    "\n",
    "    # 4) Cost estimate\n",
    "    cost_est = float(sc_cost_model.predict(x_sc)[0])\n",
    "\n",
    "    # 5) Simple decision rule\n",
    "    # - If shortage probability high (>=0.5) OR inventory < predicted demand for lead time buffer, consider ordering.\n",
    "    # - If on-time prob is low (<0.7), recommend ordering earlier or choosing a more reliable carrier.\n",
    "    daily_need = demand_pred / 30.0\n",
    "    buffer_need = daily_need * lead_time_days\n",
    "    inventory_gap = current_inventory - buffer_need\n",
    "\n",
    "    order_now = (shortage_prob >= 0.5) or (inventory_gap < 0)\n",
    "    risk_flag = on_time_prob < 0.7\n",
    "\n",
    "    recommendation = \"ORDER NOW\" if order_now else \"OK TO WAIT\"\n",
    "    logistics_note = \"Lane/Carrier risk is HIGH (consider expedited or different carrier)\" if risk_flag else \"Lane/Carrier risk acceptable\"\n",
    "\n",
    "    return {\n",
    "        \"hospital\": hospital, \"medicine\": medicine, \"month\": month,\n",
    "        \"predicted_monthly_demand\": round(demand_pred,2),\n",
    "        \"shortage_probability\": round(shortage_prob,3),\n",
    "        \"on_time_probability\": round(on_time_prob,3),\n",
    "        \"estimated_cost\": round(cost_est,2),\n",
    "        \"inventory_buffer_need\": round(buffer_need,2),\n",
    "        \"current_inventory\": current_inventory,\n",
    "        \"inventory_gap\": round(inventory_gap,2),\n",
    "        \"recommendation\": recommendation,\n",
    "        \"logistics_note\": logistics_note\n",
    "    }\n",
    "\n",
    "# Example run\n",
    "example = recommend_order(\n",
    "    hospital=hc_df['Hospital'].iloc[0],\n",
    "    medicine=\"FluVax\",\n",
    "    month=11,\n",
    "    origin=\"DAL\", destination=\"NYC\", carrier=\"AlphaTrans\", service_level=\"Expedited\",\n",
    "    current_inventory=120, lead_time_days=7\n",
    ")\n",
    "example\n"
   ]
  },
  {
   "cell_type": "markdown",
   "id": "27587b36",
   "metadata": {
    "id": "27587b36"
   },
   "source": [
    "## 3) Sensitivity: Compare Carriers & Lanes"
   ]
  },
  {
   "cell_type": "code",
   "execution_count": null,
   "id": "2a1fc112",
   "metadata": {
    "id": "2a1fc112"
   },
   "outputs": [],
   "source": [
    "\n",
    "# Evaluate the same order across carriers for the chosen lane\n",
    "def compare_carriers(hospital, medicine, month, origin, destination, service_level, current_inventory, lead_time_days):\n",
    "    rows = []\n",
    "    for c in carrier_lane_stats['Carrier'].unique():\n",
    "        rows.append(recommend_order(hospital, medicine, month, origin, destination, c, service_level,\n",
    "                                    current_inventory, lead_time_days))\n",
    "    return pd.DataFrame(rows).sort_values(\"on_time_probability\", ascending=False)\n",
    "\n",
    "sample_compare = compare_carriers(\n",
    "    hospital=hc_df['Hospital'].iloc[0], medicine=\"FluVax\", month=11,\n",
    "    origin=\"DAL\", destination=\"NYC\", service_level=\"Standard\",\n",
    "    current_inventory=150, lead_time_days=7\n",
    ")\n",
    "sample_compare\n"
   ]
  }
 ],
 "metadata": {
  "colab": {
   "provenance": []
  },
  "kernelspec": {
   "display_name": "Python 3 (ipykernel)",
   "language": "python",
   "name": "python3"
  }
 },
 "nbformat": 4,
 "nbformat_minor": 5
}
